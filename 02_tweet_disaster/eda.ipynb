{
 "cells": [
  {
   "cell_type": "markdown",
   "metadata": {},
   "source": [
    "# Disaster Tweets Dataset\n",
    "\n",
    "\n",
    "Link to Kaggle competition: [Natural Language Processing with Disaster Tweets](https://www.kaggle.com/c/nlp-getting-started)\n",
    "\n",
    "Each sample in the train and test set has the following information:\n",
    "- The `text` of a tweet\n",
    "\n",
    "- A `keyword` from that tweet (although this may be blank!)\n",
    "\n",
    "- The `location` the tweet was sent from (may also be blank)\n",
    "\n",
    "**Goal**: Predicting whether a given tweet is about a real disaster or not. If so, predict a 1. If not, predict a 0.\n",
    "\n",
    "**Data (columns)**:\n",
    "- `id` - a unique identifier for each tweet\n",
    "\n",
    "- `text` - the text of the tweet\n",
    "\n",
    "- `location` - the location the tweet was sent from (may be blank)\n",
    "\n",
    "- `keyword` - a particular keyword from the tweet (may be blank)\n",
    "\n",
    "- `target` - denotes whether a tweet is about a real disaster (1) or not (0)\n",
    "\n",
    "## Examples\n",
    "\n",
    "Examples of some tweets with target value equal to 0:\n",
    "- `I bought a 64oz jar of peanut butter and it's just getting demolished`\n",
    "\n",
    "- `tomorrow will be the death of me`\n",
    "\n",
    "- `@fotofill It looks so desolate. End of the world stuff. Gorgeous.`\n",
    "\n",
    "Examples of some tweets with target value equal to 1:\n",
    "- `#Afghanistan: sharp rise in women and children casualties in first half of #2015 http://t.co/LdyWd4ydT9`\n",
    "\n",
    "- `Storm damage reported in West Tennessee http://t.co/90L2lB5WMr`\n",
    "- `Adult dies of plague in Colorado http://t.co/yoHVuwuMZS`\n",
    "\n",
    "Next tweet is interesting because it is labelled as a disaster, but\n",
    "it's quote from game and location value is `Whiterun, Skyrim`\n",
    "which is a location of a town in game `Skyrim`. We can conclude\n",
    "that quality of this dataset is not ideal.\n",
    "- `Destruction magic's fine just don't go burning down any buildings`"
   ]
  },
  {
   "cell_type": "code",
   "execution_count": 1,
   "metadata": {},
   "outputs": [],
   "source": [
    "import pandas as pd\n",
    "import seaborn as sns\n",
    "import matplotlib.pyplot as plt\n",
    "import random\n",
    "import os"
   ]
  },
  {
   "cell_type": "code",
   "execution_count": 2,
   "metadata": {},
   "outputs": [
    {
     "name": "stdout",
     "output_type": "stream",
     "text": [
      "Dataset size: 7613\n"
     ]
    },
    {
     "data": {
      "text/html": [
       "<div>\n",
       "<style scoped>\n",
       "    .dataframe tbody tr th:only-of-type {\n",
       "        vertical-align: middle;\n",
       "    }\n",
       "\n",
       "    .dataframe tbody tr th {\n",
       "        vertical-align: top;\n",
       "    }\n",
       "\n",
       "    .dataframe thead th {\n",
       "        text-align: right;\n",
       "    }\n",
       "</style>\n",
       "<table border=\"1\" class=\"dataframe\">\n",
       "  <thead>\n",
       "    <tr style=\"text-align: right;\">\n",
       "      <th></th>\n",
       "      <th>id</th>\n",
       "      <th>keyword</th>\n",
       "      <th>location</th>\n",
       "      <th>text</th>\n",
       "      <th>target</th>\n",
       "    </tr>\n",
       "  </thead>\n",
       "  <tbody>\n",
       "    <tr>\n",
       "      <th>0</th>\n",
       "      <td>1</td>\n",
       "      <td>NaN</td>\n",
       "      <td>NaN</td>\n",
       "      <td>Our Deeds are the Reason of this #earthquake M...</td>\n",
       "      <td>1</td>\n",
       "    </tr>\n",
       "    <tr>\n",
       "      <th>1</th>\n",
       "      <td>4</td>\n",
       "      <td>NaN</td>\n",
       "      <td>NaN</td>\n",
       "      <td>Forest fire near La Ronge Sask. Canada</td>\n",
       "      <td>1</td>\n",
       "    </tr>\n",
       "    <tr>\n",
       "      <th>2</th>\n",
       "      <td>5</td>\n",
       "      <td>NaN</td>\n",
       "      <td>NaN</td>\n",
       "      <td>All residents asked to 'shelter in place' are ...</td>\n",
       "      <td>1</td>\n",
       "    </tr>\n",
       "    <tr>\n",
       "      <th>3</th>\n",
       "      <td>6</td>\n",
       "      <td>NaN</td>\n",
       "      <td>NaN</td>\n",
       "      <td>13,000 people receive #wildfires evacuation or...</td>\n",
       "      <td>1</td>\n",
       "    </tr>\n",
       "    <tr>\n",
       "      <th>4</th>\n",
       "      <td>7</td>\n",
       "      <td>NaN</td>\n",
       "      <td>NaN</td>\n",
       "      <td>Just got sent this photo from Ruby #Alaska as ...</td>\n",
       "      <td>1</td>\n",
       "    </tr>\n",
       "  </tbody>\n",
       "</table>\n",
       "</div>"
      ],
      "text/plain": [
       "   id keyword location                                               text  \\\n",
       "0   1     NaN      NaN  Our Deeds are the Reason of this #earthquake M...   \n",
       "1   4     NaN      NaN             Forest fire near La Ronge Sask. Canada   \n",
       "2   5     NaN      NaN  All residents asked to 'shelter in place' are ...   \n",
       "3   6     NaN      NaN  13,000 people receive #wildfires evacuation or...   \n",
       "4   7     NaN      NaN  Just got sent this photo from Ruby #Alaska as ...   \n",
       "\n",
       "   target  \n",
       "0       1  \n",
       "1       1  \n",
       "2       1  \n",
       "3       1  \n",
       "4       1  "
      ]
     },
     "execution_count": 2,
     "metadata": {},
     "output_type": "execute_result"
    }
   ],
   "source": [
    "df = pd.read_csv('../data/tweet_disaster.csv')\n",
    "print('Dataset size:', df.shape[0])\n",
    "df.head()"
   ]
  },
  {
   "cell_type": "markdown",
   "metadata": {},
   "source": [
    "Column `id` can be dropped."
   ]
  },
  {
   "cell_type": "code",
   "execution_count": 3,
   "metadata": {},
   "outputs": [
    {
     "data": {
      "text/html": [
       "<div>\n",
       "<style scoped>\n",
       "    .dataframe tbody tr th:only-of-type {\n",
       "        vertical-align: middle;\n",
       "    }\n",
       "\n",
       "    .dataframe tbody tr th {\n",
       "        vertical-align: top;\n",
       "    }\n",
       "\n",
       "    .dataframe thead th {\n",
       "        text-align: right;\n",
       "    }\n",
       "</style>\n",
       "<table border=\"1\" class=\"dataframe\">\n",
       "  <thead>\n",
       "    <tr style=\"text-align: right;\">\n",
       "      <th></th>\n",
       "      <th>keyword</th>\n",
       "      <th>location</th>\n",
       "      <th>text</th>\n",
       "      <th>target</th>\n",
       "    </tr>\n",
       "  </thead>\n",
       "  <tbody>\n",
       "    <tr>\n",
       "      <th>0</th>\n",
       "      <td>NaN</td>\n",
       "      <td>NaN</td>\n",
       "      <td>Our Deeds are the Reason of this #earthquake M...</td>\n",
       "      <td>1</td>\n",
       "    </tr>\n",
       "    <tr>\n",
       "      <th>1</th>\n",
       "      <td>NaN</td>\n",
       "      <td>NaN</td>\n",
       "      <td>Forest fire near La Ronge Sask. Canada</td>\n",
       "      <td>1</td>\n",
       "    </tr>\n",
       "    <tr>\n",
       "      <th>2</th>\n",
       "      <td>NaN</td>\n",
       "      <td>NaN</td>\n",
       "      <td>All residents asked to 'shelter in place' are ...</td>\n",
       "      <td>1</td>\n",
       "    </tr>\n",
       "    <tr>\n",
       "      <th>3</th>\n",
       "      <td>NaN</td>\n",
       "      <td>NaN</td>\n",
       "      <td>13,000 people receive #wildfires evacuation or...</td>\n",
       "      <td>1</td>\n",
       "    </tr>\n",
       "    <tr>\n",
       "      <th>4</th>\n",
       "      <td>NaN</td>\n",
       "      <td>NaN</td>\n",
       "      <td>Just got sent this photo from Ruby #Alaska as ...</td>\n",
       "      <td>1</td>\n",
       "    </tr>\n",
       "  </tbody>\n",
       "</table>\n",
       "</div>"
      ],
      "text/plain": [
       "  keyword location                                               text  target\n",
       "0     NaN      NaN  Our Deeds are the Reason of this #earthquake M...       1\n",
       "1     NaN      NaN             Forest fire near La Ronge Sask. Canada       1\n",
       "2     NaN      NaN  All residents asked to 'shelter in place' are ...       1\n",
       "3     NaN      NaN  13,000 people receive #wildfires evacuation or...       1\n",
       "4     NaN      NaN  Just got sent this photo from Ruby #Alaska as ...       1"
      ]
     },
     "execution_count": 3,
     "metadata": {},
     "output_type": "execute_result"
    }
   ],
   "source": [
    "df = df.drop('id', axis=1)\n",
    "df.head()"
   ]
  },
  {
   "cell_type": "markdown",
   "metadata": {},
   "source": [
    "## Target"
   ]
  },
  {
   "cell_type": "code",
   "execution_count": 4,
   "metadata": {},
   "outputs": [
    {
     "data": {
      "text/plain": [
       "False"
      ]
     },
     "execution_count": 4,
     "metadata": {},
     "output_type": "execute_result"
    }
   ],
   "source": [
    "# There is not missing tweet label\n",
    "df.target.isna().any()"
   ]
  },
  {
   "cell_type": "code",
   "execution_count": 5,
   "metadata": {},
   "outputs": [
    {
     "data": {
      "image/png": "[encoded data removed]",
      "text/plain": [
       "<Figure size 432x288 with 1 Axes>"
      ]
     },
     "metadata": {
      "needs_background": "light"
     },
     "output_type": "display_data"
    }
   ],
   "source": [
    "# Dataset has more 0 instances but they are fairly balanced\n",
    "df.target.value_counts().plot.bar(color=['red', 'green'])\n",
    "plt.xlabel('1 - disaster, 0 - not a disaster')\n",
    "plt.ylabel('Count')\n",
    "plt.title('Class ratio')\n",
    "plt.show()"
   ]
  },
  {
   "cell_type": "markdown",
   "metadata": {},
   "source": [
    "## Feature \"keyword\""
   ]
  },
  {
   "cell_type": "code",
   "execution_count": 6,
   "metadata": {},
   "outputs": [
    {
     "data": {
      "text/plain": [
       "count     7613\n",
       "unique     222\n",
       "top       none\n",
       "freq        61\n",
       "Name: keyword, dtype: object"
      ]
     },
     "execution_count": 6,
     "metadata": {},
     "output_type": "execute_result"
    }
   ],
   "source": [
    "def clean_feature_keyword(df: pd.DataFrame) -> pd.DataFrame:\n",
    "    # Blank line (nan) means there is not keyword\n",
    "    df.keyword = df.keyword.fillna('none')\n",
    "    # Rreplacing space character with '_'\n",
    "    df.keyword = df.keyword.astype('str').apply(lambda x: x.replace('%20', '_'))\n",
    "    return df\n",
    "\n",
    "df = clean_feature_keyword(df)\n",
    "df.keyword.describe()"
   ]
  },
  {
   "cell_type": "code",
   "execution_count": 7,
   "metadata": {},
   "outputs": [
    {
     "name": "stdout",
     "output_type": "stream",
     "text": [
      "Keyword examples:\n",
      "\"police\"\n",
      "\"flames\"\n",
      "\"tragedy\"\n",
      "\"disaster\"\n",
      "\"landslide\"\n",
      "\"mass_murder\"\n",
      "\"airplane_accident\"\n",
      "\"windstorm\"\n",
      "\"exploded\"\n",
      "\"wrecked\"\n"
     ]
    }
   ],
   "source": [
    "def show_examples(series: pd.Series, n: int = 10) -> None:\n",
    "    sample = series.unique()\n",
    "    random.shuffle(sample)\n",
    "    for s in sample[:n]:\n",
    "        print(f'\"{s}\"')\n",
    "\n",
    "print('Keyword examples:')\n",
    "show_examples(df.keyword)"
   ]
  },
  {
   "cell_type": "code",
   "execution_count": 8,
   "metadata": {},
   "outputs": [
    {
     "data": {
      "image/png": "[encoded data removed]",
      "text/plain": [
       "<Figure size 1152x360 with 1 Axes>"
      ]
     },
     "metadata": {
      "needs_background": "light"
     },
     "output_type": "display_data"
    }
   ],
   "source": [
    "top10 = (df.groupby('keyword')['target']\n",
    "    .agg(['count', 'mean'])\n",
    "    .reset_index()\n",
    "    .sort_values(by='count', ascending=False)\n",
    "    .head(15))\n",
    "\n",
    "# Analysis of 10 most frequent words\n",
    "fig, ax = plt.subplots(figsize=(16, 5))\n",
    "plt.title('Percentage of disasters for most frequent keywords')\n",
    "sns.barplot(x='keyword', y='mean', data=top10, ax=ax)\n",
    "plt.xticks(rotation=30)\n",
    "plt.show()"
   ]
  },
  {
   "cell_type": "markdown",
   "metadata": {},
   "source": [
    "## Feature \"location\""
   ]
  },
  {
   "cell_type": "code",
   "execution_count": 9,
   "metadata": {},
   "outputs": [
    {
     "data": {
      "text/plain": [
       "count     7613\n",
       "unique    3342\n",
       "top       none\n",
       "freq      2533\n",
       "Name: location, dtype: object"
      ]
     },
     "execution_count": 9,
     "metadata": {},
     "output_type": "execute_result"
    }
   ],
   "source": [
    "def clean_feature_location(df: pd.DataFrame) -> pd.DataFrame:\n",
    "    # Blank line (nan) means that location is unknown\n",
    "    df.location = df.location.fillna('none')\n",
    "    return df\n",
    "\n",
    "df = clean_feature_location(df)\n",
    "df.location.describe()"
   ]
  },
  {
   "cell_type": "code",
   "execution_count": 10,
   "metadata": {},
   "outputs": [
    {
     "name": "stdout",
     "output_type": "stream",
     "text": [
      "Location examples:\n",
      "\"Cape Town, Khayelitsha\"\n",
      "\"KADUNA, NIGERIA\"\n",
      "\"Hickville, USA\"\n",
      "\"Kansas City, Mo.\"\n",
      "\"11/4/14\"\n",
      "\"Starling City\"\n",
      "\"Davao City\"\n",
      "\"Irving , Texas\"\n",
      "\"Raleigh, NC\"\n",
      "\"New South Wales, Australia\"\n"
     ]
    }
   ],
   "source": [
    "print('Location examples:')\n",
    "show_examples(df.location)"
   ]
  },
  {
   "cell_type": "markdown",
   "metadata": {},
   "source": [
    "Feature `location` has bad quality and won't be analysed further because it requires lot of time which may not be worth it."
   ]
  },
  {
   "cell_type": "markdown",
   "metadata": {},
   "source": [
    "## Feature \"text\""
   ]
  },
  {
   "cell_type": "code",
   "execution_count": null,
   "metadata": {},
   "outputs": [],
   "source": []
  }
 ],
 "metadata": {
  "kernelspec": {
   "display_name": "Python 3",
   "language": "python",
   "name": "python3"
  },
  "language_info": {
   "codemirror_mode": {
    "name": "ipython",
    "version": 3
   },
   "file_extension": ".py",
   "mimetype": "text/x-python",
   "name": "python",
   "nbconvert_exporter": "python",
   "pygments_lexer": "ipython3",
   "version": "3.8.10"
  }
 },
 "nbformat": 4,
 "nbformat_minor": 4
}
